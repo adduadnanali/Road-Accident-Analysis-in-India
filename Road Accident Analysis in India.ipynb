{
 "cells": [
  {
   "cell_type": "markdown",
   "id": "8bb12a55",
   "metadata": {},
   "source": [
    "# Road Accident Analysis in India"
   ]
  },
  {
   "cell_type": "raw",
   "id": "0d5c67f1",
   "metadata": {},
   "source": []
  },
  {
   "cell_type": "code",
   "execution_count": 1,
   "id": "8e0b1666",
   "metadata": {},
   "outputs": [],
   "source": [
    "import numpy as np\n",
    "import pandas as pd\n",
    "\n",
    "data=pd.read_csv(\"accident.csv\")\n"
   ]
  },
  {
   "cell_type": "code",
   "execution_count": 2,
   "id": "0021f6e0",
   "metadata": {},
   "outputs": [],
   "source": [
    "df=pd.DataFrame(data)"
   ]
  },
  {
   "cell_type": "code",
   "execution_count": 3,
   "id": "c40bcbbd",
   "metadata": {},
   "outputs": [
    {
     "data": {
      "text/html": [
       "<div>\n",
       "<style scoped>\n",
       "    .dataframe tbody tr th:only-of-type {\n",
       "        vertical-align: middle;\n",
       "    }\n",
       "\n",
       "    .dataframe tbody tr th {\n",
       "        vertical-align: top;\n",
       "    }\n",
       "\n",
       "    .dataframe thead th {\n",
       "        text-align: right;\n",
       "    }\n",
       "</style>\n",
       "<table border=\"1\" class=\"dataframe\">\n",
       "  <thead>\n",
       "    <tr style=\"text-align: right;\">\n",
       "      <th></th>\n",
       "      <th>Accident_ID</th>\n",
       "      <th>State</th>\n",
       "      <th>Date</th>\n",
       "      <th>Time</th>\n",
       "      <th>Reason</th>\n",
       "      <th>Number_of_Deaths</th>\n",
       "      <th>Number_of_Injuries</th>\n",
       "      <th>Road_Type</th>\n",
       "      <th>Weather_Conditions</th>\n",
       "      <th>Alcohol_Involved</th>\n",
       "      <th>Driver_Fatigue</th>\n",
       "      <th>Road_Conditions</th>\n",
       "      <th>Speed_Limit</th>\n",
       "    </tr>\n",
       "  </thead>\n",
       "  <tbody>\n",
       "    <tr>\n",
       "      <th>0</th>\n",
       "      <td>1001</td>\n",
       "      <td>Andhra Pradesh</td>\n",
       "      <td>2021-05-01</td>\n",
       "      <td>15:30:00</td>\n",
       "      <td>Speeding</td>\n",
       "      <td>2</td>\n",
       "      <td>3</td>\n",
       "      <td>Rural</td>\n",
       "      <td>Sunny</td>\n",
       "      <td>No</td>\n",
       "      <td>No</td>\n",
       "      <td>Poor</td>\n",
       "      <td>60.0</td>\n",
       "    </tr>\n",
       "    <tr>\n",
       "      <th>1</th>\n",
       "      <td>1002</td>\n",
       "      <td>Karnataka</td>\n",
       "      <td>2021-05-02</td>\n",
       "      <td>18:45:00</td>\n",
       "      <td>Drunk Driving</td>\n",
       "      <td>1</td>\n",
       "      <td>4</td>\n",
       "      <td>Urban</td>\n",
       "      <td>Rainy</td>\n",
       "      <td>Yes</td>\n",
       "      <td>No</td>\n",
       "      <td>Good</td>\n",
       "      <td>40.0</td>\n",
       "    </tr>\n",
       "    <tr>\n",
       "      <th>2</th>\n",
       "      <td>1003</td>\n",
       "      <td>Delhi</td>\n",
       "      <td>2021-05-03</td>\n",
       "      <td>10:15:00</td>\n",
       "      <td>Poor Road Conditions</td>\n",
       "      <td>0</td>\n",
       "      <td>2</td>\n",
       "      <td>Urban</td>\n",
       "      <td>Foggy</td>\n",
       "      <td>No</td>\n",
       "      <td>No</td>\n",
       "      <td>Poor</td>\n",
       "      <td>50.0</td>\n",
       "    </tr>\n",
       "    <tr>\n",
       "      <th>3</th>\n",
       "      <td>1004</td>\n",
       "      <td>Maharashtra</td>\n",
       "      <td>2021-05-04</td>\n",
       "      <td>06:00:00</td>\n",
       "      <td>Driver Fatigue</td>\n",
       "      <td>3</td>\n",
       "      <td>6</td>\n",
       "      <td>Rural</td>\n",
       "      <td>Sunny</td>\n",
       "      <td>No</td>\n",
       "      <td>Yes</td>\n",
       "      <td>Good</td>\n",
       "      <td>70.0</td>\n",
       "    </tr>\n",
       "    <tr>\n",
       "      <th>4</th>\n",
       "      <td>1005</td>\n",
       "      <td>Uttar Pradesh</td>\n",
       "      <td>2021-05-05</td>\n",
       "      <td>21:20:00</td>\n",
       "      <td>Speeding</td>\n",
       "      <td>1</td>\n",
       "      <td>2</td>\n",
       "      <td>Rural</td>\n",
       "      <td>Sunny</td>\n",
       "      <td>No</td>\n",
       "      <td>No</td>\n",
       "      <td>Fair</td>\n",
       "      <td>80.0</td>\n",
       "    </tr>\n",
       "  </tbody>\n",
       "</table>\n",
       "</div>"
      ],
      "text/plain": [
       "  Accident_ID           State        Date      Time                Reason  \\\n",
       "0        1001  Andhra Pradesh  2021-05-01  15:30:00              Speeding   \n",
       "1        1002       Karnataka  2021-05-02  18:45:00         Drunk Driving   \n",
       "2        1003           Delhi  2021-05-03  10:15:00  Poor Road Conditions   \n",
       "3        1004     Maharashtra  2021-05-04  06:00:00        Driver Fatigue   \n",
       "4        1005   Uttar Pradesh  2021-05-05  21:20:00              Speeding   \n",
       "\n",
       "   Number_of_Deaths Number_of_Injuries Road_Type Weather_Conditions  \\\n",
       "0                 2                  3     Rural              Sunny   \n",
       "1                 1                  4     Urban              Rainy   \n",
       "2                 0                  2     Urban              Foggy   \n",
       "3                 3                  6     Rural              Sunny   \n",
       "4                 1                  2     Rural              Sunny   \n",
       "\n",
       "  Alcohol_Involved Driver_Fatigue Road_Conditions  Speed_Limit  \n",
       "0               No             No            Poor         60.0  \n",
       "1              Yes             No            Good         40.0  \n",
       "2               No             No            Poor         50.0  \n",
       "3               No            Yes            Good         70.0  \n",
       "4               No             No            Fair         80.0  "
      ]
     },
     "execution_count": 3,
     "metadata": {},
     "output_type": "execute_result"
    }
   ],
   "source": [
    "df.head()"
   ]
  },
  {
   "cell_type": "code",
   "execution_count": 5,
   "id": "540c58ef",
   "metadata": {},
   "outputs": [
    {
     "data": {
      "text/html": [
       "<div>\n",
       "<style scoped>\n",
       "    .dataframe tbody tr th:only-of-type {\n",
       "        vertical-align: middle;\n",
       "    }\n",
       "\n",
       "    .dataframe tbody tr th {\n",
       "        vertical-align: top;\n",
       "    }\n",
       "\n",
       "    .dataframe thead th {\n",
       "        text-align: right;\n",
       "    }\n",
       "</style>\n",
       "<table border=\"1\" class=\"dataframe\">\n",
       "  <thead>\n",
       "    <tr style=\"text-align: right;\">\n",
       "      <th></th>\n",
       "      <th>Number_of_Deaths</th>\n",
       "      <th>Speed_Limit</th>\n",
       "    </tr>\n",
       "  </thead>\n",
       "  <tbody>\n",
       "    <tr>\n",
       "      <th>count</th>\n",
       "      <td>300.000000</td>\n",
       "      <td>299.000000</td>\n",
       "    </tr>\n",
       "    <tr>\n",
       "      <th>mean</th>\n",
       "      <td>1.766667</td>\n",
       "      <td>56.989967</td>\n",
       "    </tr>\n",
       "    <tr>\n",
       "      <th>std</th>\n",
       "      <td>1.090651</td>\n",
       "      <td>13.042390</td>\n",
       "    </tr>\n",
       "    <tr>\n",
       "      <th>min</th>\n",
       "      <td>0.000000</td>\n",
       "      <td>30.000000</td>\n",
       "    </tr>\n",
       "    <tr>\n",
       "      <th>25%</th>\n",
       "      <td>1.000000</td>\n",
       "      <td>50.000000</td>\n",
       "    </tr>\n",
       "    <tr>\n",
       "      <th>50%</th>\n",
       "      <td>2.000000</td>\n",
       "      <td>60.000000</td>\n",
       "    </tr>\n",
       "    <tr>\n",
       "      <th>75%</th>\n",
       "      <td>3.000000</td>\n",
       "      <td>60.000000</td>\n",
       "    </tr>\n",
       "    <tr>\n",
       "      <th>max</th>\n",
       "      <td>5.000000</td>\n",
       "      <td>90.000000</td>\n",
       "    </tr>\n",
       "  </tbody>\n",
       "</table>\n",
       "</div>"
      ],
      "text/plain": [
       "       Number_of_Deaths  Speed_Limit\n",
       "count        300.000000   299.000000\n",
       "mean           1.766667    56.989967\n",
       "std            1.090651    13.042390\n",
       "min            0.000000    30.000000\n",
       "25%            1.000000    50.000000\n",
       "50%            2.000000    60.000000\n",
       "75%            3.000000    60.000000\n",
       "max            5.000000    90.000000"
      ]
     },
     "execution_count": 5,
     "metadata": {},
     "output_type": "execute_result"
    }
   ],
   "source": [
    "df.describe()"
   ]
  },
  {
   "cell_type": "markdown",
   "id": "42438f97",
   "metadata": {},
   "source": [
    "# Reasons for Road Accidents in India"
   ]
  },
  {
   "cell_type": "code",
   "execution_count": 23,
   "id": "b1f44b3d",
   "metadata": {},
   "outputs": [
    {
     "data": {
      "image/png": "[encoded data removed]",
      "text/plain": [
       "<Figure size 576x576 with 1 Axes>"
      ]
     },
     "metadata": {},
     "output_type": "display_data"
    }
   ],
   "source": [
    "import pandas as pd\n",
    "import matplotlib.pyplot as plt\n",
    "import numpy as np\n",
    "\n",
    "# Read the csv file into a pandas dataframe\n",
    "accidents_df = pd.read_csv('accident.csv')\n",
    "\n",
    "# Calculate the number of accidents for each reason\n",
    "reason_counts = accidents_df['Reason'].value_counts()\n",
    "\n",
    "# Define the colors for the pie chart using spectral color map\n",
    "colors = plt.cm.Spectral(np.linspace(0, 1, len(reason_counts)))\n",
    "\n",
    "# Plot the data as a pie chart\n",
    "plt.figure(figsize=(8,8)) # set the size of the figure\n",
    "plt.pie(reason_counts, labels=reason_counts.index, colors=colors, autopct='%1.1f%%', startangle=90)\n",
    "plt.title('Reasons for Accidents', fontsize=18)\n",
    "plt.axis('equal') # make the pie chart circular\n",
    "plt.show()\n"
   ]
  },
  {
   "cell_type": "markdown",
   "id": "6700a2a4",
   "metadata": {},
   "source": [
    "# Accident analysis by state"
   ]
  },
  {
   "cell_type": "code",
   "execution_count": 25,
   "id": "1754c95e",
   "metadata": {},
   "outputs": [
    {
     "data": {
      "image/png": "[encoded data removed]",
      "text/plain": [
       "<Figure size 432x288 with 1 Axes>"
      ]
     },
     "metadata": {
      "needs_background": "light"
     },
     "output_type": "display_data"
    }
   ],
   "source": [
    "import pandas as pd\n",
    "import matplotlib.pyplot as plt\n",
    "import matplotlib.cm as cm\n",
    "\n",
    "# Load the dataset\n",
    "accidents_df = pd.read_csv('accident.csv')\n",
    "\n",
    "# Group accidents by state and count them\n",
    "state_accidents = accidents_df.groupby('State')['Accident_ID'].count().reset_index()\n",
    "\n",
    "# Sort states by the number of accidents\n",
    "sorted_states = state_accidents.sort_values(by='Accident_ID', ascending=False)\n",
    "\n",
    "# Display the top 10 states with the most accidents\n",
    "top_states = sorted_states.head(10)\n",
    "#print(top_states)\n",
    "\n",
    "# Define the color map\n",
    "colors = cm.Spectral(top_states['Accident_ID'] / float(max(top_states['Accident_ID'])))\n",
    "\n",
    "# Create a horizontal bar graph with spectral color map\n",
    "plt.barh(top_states['State'], top_states['Accident_ID'], color=colors)\n",
    "plt.title('Number of Accidents by State (Top 10)')\n",
    "plt.xlabel('Number of Accidents')\n",
    "plt.ylabel('State')\n",
    "plt.show()\n"
   ]
  },
  {
   "cell_type": "markdown",
   "id": "892d22d7",
   "metadata": {},
   "source": [
    "# Impact of  weather conditions on Road Accidents"
   ]
  },
  {
   "cell_type": "code",
   "execution_count": 26,
   "id": "c231db0a",
   "metadata": {},
   "outputs": [
    {
     "data": {
      "image/png": "[encoded data removed]",
      "text/plain": [
       "<Figure size 432x288 with 1 Axes>"
      ]
     },
     "metadata": {
      "needs_background": "light"
     },
     "output_type": "display_data"
    }
   ],
   "source": [
    "import pandas as pd\n",
    "import matplotlib.pyplot as plt\n",
    "import matplotlib.cm as cm\n",
    "\n",
    "# Load the dataset\n",
    "accidents_df = pd.read_csv('accident.csv')\n",
    "\n",
    "# Group accidents by weather condition and count them\n",
    "weather_accidents = accidents_df.groupby('Weather_Conditions')['Accident_ID'].count().reset_index()\n",
    "\n",
    "# Sort weather conditions by the number of accidents\n",
    "sorted_weather = weather_accidents.sort_values(by='Accident_ID', ascending=False)\n",
    "\n",
    "# Display the weather conditions with the most accidents\n",
    "top_weather = sorted_weather.head(10)\n",
    "#print(top_weather)\n",
    "\n",
    "# Define spectral color map\n",
    "colors = cm.Spectral_r(top_weather['Accident_ID']/float(max(top_weather['Accident_ID'])))\n",
    "\n",
    "# Create a bar graph with spectral color\n",
    "plt.bar(top_weather['Weather_Conditions'], top_weather['Accident_ID'], color=colors)\n",
    "plt.title('Number of Accidents by Weather Condition')\n",
    "plt.xlabel('Weather Condition')\n",
    "plt.ylabel('Number of Accidents')\n",
    "plt.show()\n"
   ]
  },
  {
   "cell_type": "markdown",
   "id": "c4e2fd78",
   "metadata": {},
   "source": [
    "# Impact of speeding on road accidents "
   ]
  },
  {
   "cell_type": "code",
   "execution_count": 33,
   "id": "1095d538",
   "metadata": {},
   "outputs": [
    {
     "data": {
      "image/png": "[encoded data removed]",
      "text/plain": [
       "<Figure size 432x288 with 1 Axes>"
      ]
     },
     "metadata": {
      "needs_background": "light"
     },
     "output_type": "display_data"
    }
   ],
   "source": [
    "import pandas as pd\n",
    "import matplotlib.pyplot as plt\n",
    "\n",
    "# Load data into a DataFrame\n",
    "accidents_df = pd.read_csv('accident.csv', usecols=['Speed_Limit', 'Number_of_Deaths'])\n",
    "\n",
    "# Group data by speed limit and calculate the average number of deaths and injuries\n",
    "speed_stats = accidents_df.groupby('Speed_Limit', as_index=False)['Number_of_Deaths'].mean()\n",
    "\n",
    "# Create a line graph to analyze the relationship between speed limit and average number of deaths and injuries\n",
    "plt.plot(speed_stats['Speed_Limit'], speed_stats['Number_of_Deaths'], label='Average Number of Deaths')\n",
    "\n",
    "plt.title('Impact of Speeding on Accident Severity')\n",
    "plt.xlabel('Speed Limit')\n",
    "plt.ylabel('Average Number of Deaths/Injuries')\n",
    "plt.legend()\n",
    "plt.show()\n"
   ]
  },
  {
   "cell_type": "markdown",
   "id": "dc318eae",
   "metadata": {},
   "source": [
    "#  Impact of alcohol consumption on Road accidents "
   ]
  },
  {
   "cell_type": "code",
   "execution_count": 34,
   "id": "8427d9eb",
   "metadata": {},
   "outputs": [
    {
     "data": {
      "image/png": "[encoded data removed]",
      "text/plain": [
       "<Figure size 432x288 with 1 Axes>"
      ]
     },
     "metadata": {
      "needs_background": "light"
     },
     "output_type": "display_data"
    }
   ],
   "source": [
    "import pandas as pd\n",
    "import matplotlib.pyplot as plt\n",
    "\n",
    "# Load the data from a CSV file\n",
    "accidents_df = pd.read_csv('accident.csv')\n",
    "\n",
    "# Filter the data to include only accidents with alcohol involvement\n",
    "alcohol_accidents_df = accidents_df[accidents_df['Alcohol_Involved'] == 'Yes']\n",
    "\n",
    "# Count the number of alcohol-related accidents in each state\n",
    "state_counts = alcohol_accidents_df['State'].value_counts()\n",
    "\n",
    "# Create a bar plot of the state-wise alcohol-related accidents\n",
    "plt.bar(state_counts.index, state_counts.values, color=plt.cm.Spectral(state_counts.values/max(state_counts.values)))\n",
    "\n",
    "# Set the title and axis labels\n",
    "plt.title('Alcohol-Related Accidents by State')\n",
    "plt.xlabel('State')\n",
    "plt.ylabel('Number of Accidents')\n",
    "\n",
    "# Rotate the x-tick labels and adjust font size\n",
    "plt.xticks(rotation=90, fontsize=8)\n",
    "\n",
    "# Display the plot\n",
    "plt.show()\n"
   ]
  },
  {
   "cell_type": "markdown",
   "id": "b43caa4e",
   "metadata": {},
   "source": [
    "# Analysis of the impact of rural vs. urban locations on accidents"
   ]
  },
  {
   "cell_type": "code",
   "execution_count": 38,
   "id": "be3eed45",
   "metadata": {},
   "outputs": [
    {
     "data": {
      "image/png": "[encoded data removed]",
      "text/plain": [
       "<Figure size 432x288 with 1 Axes>"
      ]
     },
     "metadata": {},
     "output_type": "display_data"
    }
   ],
   "source": [
    "import pandas as pd\n",
    "import matplotlib.pyplot as plt\n",
    "\n",
    "# Load the data from a CSV file\n",
    "accidents_df = pd.read_csv('accident.csv')\n",
    "\n",
    "# Create a new column to classify the accidents as rural or urban based on the road type\n",
    "accidents_df['Location_Type'] = accidents_df['Road_Type'].apply(lambda x: 'Rural' if x.startswith('R') else 'Urban')\n",
    "\n",
    "# Count the number of accidents by location type\n",
    "location_counts = accidents_df['Location_Type'].value_counts()\n",
    "\n",
    "colors = ['#ff7f0e', '#1f77b4']\n",
    "\n",
    "\n",
    "plt.pie(location_counts.values, labels=location_counts.index, colors=colors, autopct='%1.1f%%')\n",
    "\n",
    "# Set the title and axis labels\n",
    "plt.title('Accidents by Location Type')\n",
    "\n",
    "# Display the plot\n",
    "plt.show()\n"
   ]
  },
  {
   "cell_type": "markdown",
   "id": "108fdc5f",
   "metadata": {},
   "source": [
    "#  Sending SMS Alert to Family Members "
   ]
  },
  {
   "cell_type": "code",
   "execution_count": 4,
   "id": "35179ad6",
   "metadata": {},
   "outputs": [
    {
     "name": "stdout",
     "output_type": "stream",
     "text": [
      "Have you consumed alcohol? (yes/no) no\n",
      "Captcha: 5b466f\n",
      "Enter the captcha: 5b283\n",
      "Error! Captcha does not match the key. 2 attempts remaining.\n",
      "Captcha: 5a7d12\n",
      "Enter the captcha: 5a52d\n",
      "Error! Captcha does not match the key. 1 attempts remaining.\n",
      "Captcha: 167ab5\n",
      "Enter the captcha: 134s\n",
      "Error! Three wrong attempts, driver has consumed alcohol.\n",
      "Enter your current speed (km/h): 10\n",
      "You have consumed alcohol , Message sent to your registered mobile number. \n",
      "You are driving safely\n"
     ]
    }
   ],
   "source": [
    "# Download the helper library from https://www.twilio.com/docs/python/install\n",
    "import os\n",
    "import secrets\n",
    "import time\n",
    "from twilio.rest import Client\n",
    "\n",
    "# Set environment variables for your credentials\n",
    "# Read more at http://twil.io/secure\n",
    "account_sid = \"AC00709cd49b7b8b39ff08b38420b6508a\"\n",
    "auth_token = \"6f4b2d849b1a7787da5b687fe17e66bb\"\n",
    "client = Client(account_sid, auth_token)\n",
    "\n",
    "# Define the phone numbers\n",
    "from_number = \"+16205071602\"\n",
    "to_number = \"+919492333588\"\n",
    "\n",
    "# Get the user input for alcohol consumption\n",
    "alcohol_input = input(\"Have you consumed alcohol? (yes/no) \").lower()\n",
    "if alcohol_input == \"yes\":\n",
    "    alcohol_detected = True\n",
    "else:\n",
    "    alcohol_detected = False\n",
    "    # Generate a secure random key with a given length\n",
    "    def generate_key(length):\n",
    "        return secrets.token_hex(length//2)\n",
    "    # Generate a captcha and return the key\n",
    "    def generate_captcha():\n",
    "        # Generate a 6-character captcha\n",
    "        captcha = generate_key(6)\n",
    "        print(f\"Captcha: {captcha}\")\n",
    "        return captcha\n",
    "    # Check if the user's answer matches the key\n",
    "    def check_answer(answer, key):\n",
    "        return answer == key\n",
    "\n",
    "    # Set the number of allowed attempts\n",
    "    max_attempts = 3\n",
    "    attempts = 0\n",
    "    while attempts < max_attempts:\n",
    "        # Generate a captcha and prompt the user to enter an answer\n",
    "        captcha_key = generate_captcha()\n",
    "        user_answer = input(\"Enter the captcha: \")\n",
    "        \n",
    "        # Check if the user's answer matches the key\n",
    "        if check_answer(user_answer, captcha_key):\n",
    "            print(\"Success! Captcha matches the key.\")\n",
    "            break\n",
    "        else:\n",
    "            attempts += 1\n",
    "            if attempts == max_attempts:\n",
    "                print(\"Error! Three wrong attempts, driver has consumed alcohol.\")\n",
    "                alcohol_detected = True\n",
    "            else:\n",
    "                print(f\"Error! Captcha does not match the key. {max_attempts - attempts} attempts remaining.\")\n",
    "\n",
    "# Get the user input for speed\n",
    "speed_input = input(\"Enter your current speed (km/h): \")\n",
    "speed = int(speed_input)\n",
    "\n",
    "# Check if speed is above the limit and alcohol is detected\n",
    "if speed > 100 :\n",
    "    # Construct the message to be sent\n",
    "    message_body = f\"Your Companion is overspeeding and Speed is {speed_input} km/h.\"\n",
    "    \n",
    "    # Send the message\n",
    "    message = client.messages.create(\n",
    "        body=message_body,\n",
    "        from_=from_number,\n",
    "        to=to_number\n",
    "    )\n",
    "    print(\"You are overspeeding, Message sent to your registered mobile number. \")\n",
    "if alcohol_detected:\n",
    "    # Construct the message to be sent\n",
    "    message_body = f\"Your Companion has consumed alcohol and is trying to drive the car. Please send emergency services.\"\n",
    "    \n",
    "    # Send the message\n",
    "    message = client.messages.create(\n",
    "        body=message_body,\n",
    "        from_=from_number,\n",
    "        to=to_number\n",
    "    )\n",
    "    print(\"You have consumed alcohol , Message sent to your registered mobile number. \")\n",
    "if speed > 100 and alcohol_detected:\n",
    "    # Construct the message to be sent\n",
    "    message_body = f\"Your Companion is overspeeding and Speed is {speed_input} km/h and has consumed alcohol. Please send emergency services.\"\n",
    "    \n",
    "    # Send the message\n",
    "    message = client.messages.create(\n",
    "        body=message_body,\n",
    "        from_=from_number,\n",
    "        to=to_number\n",
    "    )\n",
    "    # Print the message SID for confirmation\n",
    "    print(\"You have consumed alcohol and also overspeedning, Message sent to your registered mobile number. \")\n",
    "    print(\"Message SID:\", message.sid)\n",
    "else:\n",
    "    print(\"You are driving safely\")"
   ]
  },
  {
   "cell_type": "code",
   "execution_count": null,
   "id": "efb3201c",
   "metadata": {},
   "outputs": [],
   "source": []
  }
 ],
 "metadata": {
  "kernelspec": {
   "display_name": "Python 3 (ipykernel)",
   "language": "python",
   "name": "python3"
  },
  "language_info": {
   "codemirror_mode": {
    "name": "ipython",
    "version": 3
   },
   "file_extension": ".py",
   "mimetype": "text/x-python",
   "name": "python",
   "nbconvert_exporter": "python",
   "pygments_lexer": "ipython3",
   "version": "3.9.0"
  }
 },
 "nbformat": 4,
 "nbformat_minor": 5
}
